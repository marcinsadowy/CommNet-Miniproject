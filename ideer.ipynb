{
 "cells": [
  {
   "cell_type": "code",
   "execution_count": null,
   "metadata": {},
   "outputs": [],
   "source": [
    "Hej. \n",
    "\n",
    "Så vi har nogle ideer.\n",
    "\n",
    "Sensorer:\n",
    "- Hummidity\n",
    "- Light\n",
    "- Air Pressure\n",
    "- SoundSensor\n",
    "- Movement\n"
   ]
  },
  {
   "cell_type": "markdown",
   "metadata": {},
   "source": [
    "## Ideer:\n",
    "\n",
    "ErDerBrand.dk\n",
    "- Bruger en brandsensor\n",
    "\n",
    "ErDørenÅben.dk\n",
    "- UltraSonic Distance Sensorer\n",
    "\n",
    "ErDetRegnVejr.dk\n",
    "- Hummidity Sensorer\n",
    "\n",
    "ErSolenGåetNed.dk\n",
    "- Daylight Sensor\n",
    "\n",
    "ErDerLarm.dk\n",
    "- Sound sensor\n",
    "\n",
    "Solenergi\n",
    "- En hjemmeside der viser hvor meget strøm der bliver produceret.\n",
    "\n",
    "ErSkraldespandenFuld.dk\n",
    "- En eller anden sensor\n"
   ]
  }
 ],
 "metadata": {
  "language_info": {
   "name": "python"
  }
 },
 "nbformat": 4,
 "nbformat_minor": 2
}
